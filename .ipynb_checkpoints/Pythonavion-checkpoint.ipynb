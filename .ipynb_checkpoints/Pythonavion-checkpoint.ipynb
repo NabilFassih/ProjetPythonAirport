{
 "cells": [
  {
   "cell_type": "code",
   "execution_count": 1,
   "metadata": {},
   "outputs": [],
   "source": [
    "import pymysql\n",
    "import pandas as pd\n",
    "\n",
    "conn = pymysql.connect(host='localhost', port=3306, user='root', passwd='', db='projet_python_airport')\n",
    "\n",
    "cur = conn.cursor()"
   ]
  },
  {
   "cell_type": "code",
   "execution_count": null,
   "metadata": {},
   "outputs": [],
   "source": [
    "1.\tIdentifier les clés primaires (PK), clés étrangères (FK) et les relations entre les différentes tables ?"
   ]
  },
  {
   "cell_type": "code",
   "execution_count": null,
   "metadata": {},
   "outputs": [],
   "source": []
  },
  {
   "cell_type": "code",
   "execution_count": null,
   "metadata": {},
   "outputs": [],
   "source": [
    "2.\tCombien y-a-t-il d’aéroports, de compagnies, de destinations, d’avions, de fuseaux horaires \n",
    "et de zones aux Etats-Unis où on ne passe pas à l’heure d’été (indice : colonne dst) ?\n",
    "\n"
   ]
  },
  {
   "cell_type": "code",
   "execution_count": 3,
   "metadata": {},
   "outputs": [
    {
     "data": {
      "text/html": [
       "<div>\n",
       "<style scoped>\n",
       "    .dataframe tbody tr th:only-of-type {\n",
       "        vertical-align: middle;\n",
       "    }\n",
       "\n",
       "    .dataframe tbody tr th {\n",
       "        vertical-align: top;\n",
       "    }\n",
       "\n",
       "    .dataframe thead th {\n",
       "        text-align: right;\n",
       "    }\n",
       "</style>\n",
       "<table border=\"1\" class=\"dataframe\">\n",
       "  <thead>\n",
       "    <tr style=\"text-align: right;\">\n",
       "      <th></th>\n",
       "      <th>nbZone</th>\n",
       "    </tr>\n",
       "  </thead>\n",
       "  <tbody>\n",
       "    <tr>\n",
       "      <th>0</th>\n",
       "      <td>14</td>\n",
       "    </tr>\n",
       "  </tbody>\n",
       "</table>\n",
       "</div>"
      ],
      "text/plain": [
       "   nbZone\n",
       "0      14"
      ]
     },
     "execution_count": 3,
     "metadata": {},
     "output_type": "execute_result"
    }
   ],
   "source": [
    "pd.read_sql('SELECT count(*) as nbAeroports FROM airports', conn)\n",
    "pd.read_sql('SELECT count(*) as nbCompagnies FROM airlines', conn)\n",
    "pd.read_sql('SELECT count(*) as nbDestinations FROM flights', conn)\n",
    "pd.read_sql('SELECT count(*) as nbAvions FROM planes', conn)\n",
    "pd.read_sql('SELECT COUNT(DISTINCT tz) as nbFuseauxHoraires from airports', conn)\n",
    "pd.read_sql('SELECT COUNT(*) as nbZone from airports WHERE dst = \"N\" AND tzone LIKE \"%America/%\"', conn)"
   ]
  },
  {
   "cell_type": "code",
   "execution_count": null,
   "metadata": {},
   "outputs": [],
   "source": [
    "3.\tQuel est l’aéroport de départ le plus emprunté ?\n",
    "Quelles sont les 10 destinations les plus (moins) prisées ?\n",
    "Quelle sont les 10 avions qui ont le plus (moins) décollé ?"
   ]
  },
  {
   "cell_type": "code",
   "execution_count": 9,
   "metadata": {},
   "outputs": [
    {
     "data": {
      "text/html": [
       "<div>\n",
       "<style scoped>\n",
       "    .dataframe tbody tr th:only-of-type {\n",
       "        vertical-align: middle;\n",
       "    }\n",
       "\n",
       "    .dataframe tbody tr th {\n",
       "        vertical-align: top;\n",
       "    }\n",
       "\n",
       "    .dataframe thead th {\n",
       "        text-align: right;\n",
       "    }\n",
       "</style>\n",
       "<table border=\"1\" class=\"dataframe\">\n",
       "  <thead>\n",
       "    <tr style=\"text-align: right;\">\n",
       "      <th></th>\n",
       "      <th>tailnum</th>\n",
       "      <th>COUNT(planes.tailnum)</th>\n",
       "    </tr>\n",
       "  </thead>\n",
       "  <tbody>\n",
       "    <tr>\n",
       "      <th>0</th>\n",
       "      <td>N766SK</td>\n",
       "      <td>1</td>\n",
       "    </tr>\n",
       "    <tr>\n",
       "      <th>1</th>\n",
       "      <td>N940UW</td>\n",
       "      <td>1</td>\n",
       "    </tr>\n",
       "    <tr>\n",
       "      <th>2</th>\n",
       "      <td>N836AW</td>\n",
       "      <td>1</td>\n",
       "    </tr>\n",
       "    <tr>\n",
       "      <th>3</th>\n",
       "      <td>N907DA</td>\n",
       "      <td>1</td>\n",
       "    </tr>\n",
       "    <tr>\n",
       "      <th>4</th>\n",
       "      <td>N790SK</td>\n",
       "      <td>1</td>\n",
       "    </tr>\n",
       "    <tr>\n",
       "      <th>5</th>\n",
       "      <td>N670US</td>\n",
       "      <td>1</td>\n",
       "    </tr>\n",
       "    <tr>\n",
       "      <th>6</th>\n",
       "      <td>N881AS</td>\n",
       "      <td>1</td>\n",
       "    </tr>\n",
       "    <tr>\n",
       "      <th>7</th>\n",
       "      <td>N587NW</td>\n",
       "      <td>1</td>\n",
       "    </tr>\n",
       "    <tr>\n",
       "      <th>8</th>\n",
       "      <td>N653UA</td>\n",
       "      <td>1</td>\n",
       "    </tr>\n",
       "    <tr>\n",
       "      <th>9</th>\n",
       "      <td>N845MH</td>\n",
       "      <td>1</td>\n",
       "    </tr>\n",
       "  </tbody>\n",
       "</table>\n",
       "</div>"
      ],
      "text/plain": [
       "  tailnum  COUNT(planes.tailnum)\n",
       "0  N766SK                      1\n",
       "1  N940UW                      1\n",
       "2  N836AW                      1\n",
       "3  N907DA                      1\n",
       "4  N790SK                      1\n",
       "5  N670US                      1\n",
       "6  N881AS                      1\n",
       "7  N587NW                      1\n",
       "8  N653UA                      1\n",
       "9  N845MH                      1"
      ]
     },
     "execution_count": 9,
     "metadata": {},
     "output_type": "execute_result"
    }
   ],
   "source": [
    "pd.read_sql('SELECT origin, a.name, MAX(mycount) FROM ( SELECT origin, COUNT(origin) mycount FROM flights GROUP BY origin ) AS T INNER JOIN airports a ON a.faa = origin', conn)\n",
    "pd.read_sql('SELECT dest, name, nombre FROM ( SELECT COUNT(*) AS NOMBRE, dest FROM flights GROUP BY dest ) AS T INNER JOIN airports ON dest = faa GROUP BY nombre DESC LIMIT 10', conn)\n",
    "pd.read_sql('SELECT dest, NAME, nombre FROM ( SELECT COUNT(*) AS NOMBRE, dest FROM flights GROUP BY dest ) AS T INNER JOIN airports ON dest = faa GROUP BY nombre ASC LIMIT 10', conn)\n",
    "pd.read_sql('SELECT planes.tailnum, COUNT(planes.tailnum) FROM planes INNER JOIN flights ON planes.tailnum = flights.tailnum GROUP BY planes.tailnum ORDER BY COUNT(planes.tailnum) DESC LIMIT 10', conn)\n",
    "pd.read_sql('SELECT planes.tailnum, COUNT(planes.tailnum) FROM planes INNER JOIN flights ON planes.tailnum = flights.tailnum GROUP BY planes.tailnum ORDER BY COUNT(planes.tailnum) ASC LIMIT 10', conn)"
   ]
  },
  {
   "cell_type": "code",
   "execution_count": null,
   "metadata": {},
   "outputs": [],
   "source": [
    "4.\tTrouver combien chaque compagnie a desservi de destination ; \n",
    "combien chaque compagnie a desservie de destination par aéroport d’origine. \n",
    "Réaliser les graphiques adéquats qui synthétisent ces informations ? "
   ]
  },
  {
   "cell_type": "code",
   "execution_count": 19,
   "metadata": {},
   "outputs": [
    {
     "data": {
      "text/html": [
       "<div>\n",
       "<style scoped>\n",
       "    .dataframe tbody tr th:only-of-type {\n",
       "        vertical-align: middle;\n",
       "    }\n",
       "\n",
       "    .dataframe tbody tr th {\n",
       "        vertical-align: top;\n",
       "    }\n",
       "\n",
       "    .dataframe thead th {\n",
       "        text-align: right;\n",
       "    }\n",
       "</style>\n",
       "<table border=\"1\" class=\"dataframe\">\n",
       "  <thead>\n",
       "    <tr style=\"text-align: right;\">\n",
       "      <th></th>\n",
       "      <th>name</th>\n",
       "      <th>nbDestination</th>\n",
       "    </tr>\n",
       "  </thead>\n",
       "  <tbody>\n",
       "    <tr>\n",
       "      <th>0</th>\n",
       "      <td>Endeavor Air Inc.</td>\n",
       "      <td>18460</td>\n",
       "    </tr>\n",
       "    <tr>\n",
       "      <th>1</th>\n",
       "      <td>American Airlines Inc.</td>\n",
       "      <td>32729</td>\n",
       "    </tr>\n",
       "    <tr>\n",
       "      <th>2</th>\n",
       "      <td>Alaska Airlines Inc.</td>\n",
       "      <td>714</td>\n",
       "    </tr>\n",
       "    <tr>\n",
       "      <th>3</th>\n",
       "      <td>JetBlue Airways</td>\n",
       "      <td>54635</td>\n",
       "    </tr>\n",
       "    <tr>\n",
       "      <th>4</th>\n",
       "      <td>Delta Air Lines Inc.</td>\n",
       "      <td>48110</td>\n",
       "    </tr>\n",
       "    <tr>\n",
       "      <th>5</th>\n",
       "      <td>ExpressJet Airlines Inc.</td>\n",
       "      <td>54173</td>\n",
       "    </tr>\n",
       "    <tr>\n",
       "      <th>6</th>\n",
       "      <td>Frontier Airlines Inc.</td>\n",
       "      <td>685</td>\n",
       "    </tr>\n",
       "    <tr>\n",
       "      <th>7</th>\n",
       "      <td>AirTran Airways Corporation</td>\n",
       "      <td>3260</td>\n",
       "    </tr>\n",
       "    <tr>\n",
       "      <th>8</th>\n",
       "      <td>Hawaiian Airlines Inc.</td>\n",
       "      <td>342</td>\n",
       "    </tr>\n",
       "    <tr>\n",
       "      <th>9</th>\n",
       "      <td>Envoy Air</td>\n",
       "      <td>26397</td>\n",
       "    </tr>\n",
       "    <tr>\n",
       "      <th>10</th>\n",
       "      <td>SkyWest Airlines Inc.</td>\n",
       "      <td>32</td>\n",
       "    </tr>\n",
       "    <tr>\n",
       "      <th>11</th>\n",
       "      <td>United Air Lines Inc.</td>\n",
       "      <td>58665</td>\n",
       "    </tr>\n",
       "    <tr>\n",
       "      <th>12</th>\n",
       "      <td>US Airways Inc.</td>\n",
       "      <td>20536</td>\n",
       "    </tr>\n",
       "    <tr>\n",
       "      <th>13</th>\n",
       "      <td>Virgin America</td>\n",
       "      <td>5162</td>\n",
       "    </tr>\n",
       "    <tr>\n",
       "      <th>14</th>\n",
       "      <td>Southwest Airlines Co.</td>\n",
       "      <td>12275</td>\n",
       "    </tr>\n",
       "    <tr>\n",
       "      <th>15</th>\n",
       "      <td>Mesa Airlines Inc.</td>\n",
       "      <td>601</td>\n",
       "    </tr>\n",
       "  </tbody>\n",
       "</table>\n",
       "</div>"
      ],
      "text/plain": [
       "                           name  nbDestination\n",
       "0             Endeavor Air Inc.          18460\n",
       "1        American Airlines Inc.          32729\n",
       "2          Alaska Airlines Inc.            714\n",
       "3               JetBlue Airways          54635\n",
       "4          Delta Air Lines Inc.          48110\n",
       "5      ExpressJet Airlines Inc.          54173\n",
       "6        Frontier Airlines Inc.            685\n",
       "7   AirTran Airways Corporation           3260\n",
       "8        Hawaiian Airlines Inc.            342\n",
       "9                     Envoy Air          26397\n",
       "10        SkyWest Airlines Inc.             32\n",
       "11        United Air Lines Inc.          58665\n",
       "12              US Airways Inc.          20536\n",
       "13               Virgin America           5162\n",
       "14       Southwest Airlines Co.          12275\n",
       "15           Mesa Airlines Inc.            601"
      ]
     },
     "execution_count": 19,
     "metadata": {},
     "output_type": "execute_result"
    }
   ],
   "source": [
    "pd.read_sql('SELECT a.name, COUNT(f.carrier) as nbDestination FROM flights f INNER JOIN airlines a ON f.carrier = a.carrier GROUP BY f.carrier HAVING COUNT(f.carrier)', conn)"
   ]
  },
  {
   "cell_type": "code",
   "execution_count": null,
   "metadata": {},
   "outputs": [],
   "source": [
    "5.\tTrouver tous les vols ayant atterri à Houston (IAH ou HOU) (indice : 9313 vols). \n",
    "Combien de vols partent de NYC airports vers Seattle (indice : 3923 vols), \n",
    "combien de compagnies desservent cette destination (indice : 5 compagnies) \n",
    "et combien d’avions “uniques” (indice : 935 avions) ? "
   ]
  },
  {
   "cell_type": "code",
   "execution_count": 24,
   "metadata": {},
   "outputs": [
    {
     "data": {
      "text/html": [
       "<div>\n",
       "<style scoped>\n",
       "    .dataframe tbody tr th:only-of-type {\n",
       "        vertical-align: middle;\n",
       "    }\n",
       "\n",
       "    .dataframe tbody tr th {\n",
       "        vertical-align: top;\n",
       "    }\n",
       "\n",
       "    .dataframe thead th {\n",
       "        text-align: right;\n",
       "    }\n",
       "</style>\n",
       "<table border=\"1\" class=\"dataframe\">\n",
       "  <thead>\n",
       "    <tr style=\"text-align: right;\">\n",
       "      <th></th>\n",
       "      <th>tailnum</th>\n",
       "    </tr>\n",
       "  </thead>\n",
       "  <tbody>\n",
       "    <tr>\n",
       "      <th>0</th>\n",
       "      <td>N594AS</td>\n",
       "    </tr>\n",
       "    <tr>\n",
       "      <th>1</th>\n",
       "      <td>N3760C</td>\n",
       "    </tr>\n",
       "    <tr>\n",
       "      <th>2</th>\n",
       "      <td>N45440</td>\n",
       "    </tr>\n",
       "    <tr>\n",
       "      <th>3</th>\n",
       "      <td>N37464</td>\n",
       "    </tr>\n",
       "    <tr>\n",
       "      <th>4</th>\n",
       "      <td>N503JB</td>\n",
       "    </tr>\n",
       "    <tr>\n",
       "      <th>...</th>\n",
       "      <td>...</td>\n",
       "    </tr>\n",
       "    <tr>\n",
       "      <th>931</th>\n",
       "      <td>N833UA</td>\n",
       "    </tr>\n",
       "    <tr>\n",
       "      <th>932</th>\n",
       "      <td>N557AS</td>\n",
       "    </tr>\n",
       "    <tr>\n",
       "      <th>933</th>\n",
       "      <td>N483UA</td>\n",
       "    </tr>\n",
       "    <tr>\n",
       "      <th>934</th>\n",
       "      <td>N814UA</td>\n",
       "    </tr>\n",
       "    <tr>\n",
       "      <th>935</th>\n",
       "      <td>N561JB</td>\n",
       "    </tr>\n",
       "  </tbody>\n",
       "</table>\n",
       "<p>936 rows × 1 columns</p>\n",
       "</div>"
      ],
      "text/plain": [
       "    tailnum\n",
       "0    N594AS\n",
       "1    N3760C\n",
       "2    N45440\n",
       "3    N37464\n",
       "4    N503JB\n",
       "..      ...\n",
       "931  N833UA\n",
       "932  N557AS\n",
       "933  N483UA\n",
       "934  N814UA\n",
       "935  N561JB\n",
       "\n",
       "[936 rows x 1 columns]"
      ]
     },
     "execution_count": 24,
     "metadata": {},
     "output_type": "execute_result"
    }
   ],
   "source": [
    "pd.read_sql('SELECT flight FROM flights WHERE dest=\"IAH\" OR dest=\"HOU\"', conn)\n",
    "pd.read_sql('SELECT DISTINCT flight FROM flights WHERE origin=\"JFK\" OR origin=\"EWR\" OR origin=\"LGA\" OR origin=\"JRB\" AND dest=\"SEA\"', conn)\n",
    "pd.read_sql('SELECT DISTINCT carrier, dest FROM flights WHERE dest=\"SEA\"', conn)\n",
    "pd.read_sql('SELECT DISTINCT tailnum FROM flights WHERE dest=\"SEA\"', conn)"
   ]
  },
  {
   "cell_type": "code",
   "execution_count": null,
   "metadata": {},
   "outputs": [],
   "source": [
    "6.\tTrouver le nombre de vols unique par destination voir l’aperçu. \n",
    "Trier les vols suivant la destination, l’aéroport d’origine, la compagnie dans un ordre alphabétique croissant \n",
    "(en réalisant les jointures nécessaires pour obtenir les noms des explicites des aéroports) ? \n",
    "indice : voir l’aperçu"
   ]
  },
  {
   "cell_type": "code",
   "execution_count": null,
   "metadata": {},
   "outputs": [],
   "source": []
  },
  {
   "cell_type": "code",
   "execution_count": null,
   "metadata": {},
   "outputs": [],
   "source": [
    "7.\tQuelles sont les compagnies qui n'opèrent pas sur tous les aéroports d’origine ? \n",
    "Quelles sont les compagnies qui desservent l’ensemble de destinations ?\n",
    "Faire un tableau où l’on récupère l’ensemble des origines et des destinations pour l’ensemble des compagnies. indice : \n"
   ]
  },
  {
   "cell_type": "code",
   "execution_count": null,
   "metadata": {},
   "outputs": [],
   "source": []
  },
  {
   "cell_type": "code",
   "execution_count": null,
   "metadata": {},
   "outputs": [],
   "source": [
    "8.\tQuelles sont les destinations qui sont exclusives à certaines compagnies\n",
    "(indice : 28 destinations en toutalors que sur R on trouve 29 pourquoi) ?"
   ]
  },
  {
   "cell_type": "code",
   "execution_count": null,
   "metadata": {},
   "outputs": [],
   "source": []
  },
  {
   "cell_type": "code",
   "execution_count": null,
   "metadata": {},
   "outputs": [],
   "source": [
    "9.\tFiltrer le vol pour trouver ceux exploités par United, American ou Delta (indice : 139 504 vols en tout) ?"
   ]
  }
 ],
 "metadata": {
  "kernelspec": {
   "display_name": "Python 3",
   "language": "python",
   "name": "python3"
  },
  "language_info": {
   "codemirror_mode": {
    "name": "ipython",
    "version": 3
   },
   "file_extension": ".py",
   "mimetype": "text/x-python",
   "name": "python",
   "nbconvert_exporter": "python",
   "pygments_lexer": "ipython3",
   "version": "3.8.5"
  }
 },
 "nbformat": 4,
 "nbformat_minor": 4
}
